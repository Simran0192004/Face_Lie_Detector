{
 "cells": [
  {
   "cell_type": "code",
   "execution_count": 1,
   "id": "f66cda49",
   "metadata": {},
   "outputs": [
    {
     "name": "stdout",
     "output_type": "stream",
     "text": [
      "Hello, Simran! Jupyter is alive! Thanks for saving me!\n"
     ]
    }
   ],
   "source": [
    "print(\"Hello, Simran! Jupyter is alive! Thanks for saving me!\")"
   ]
  },
  {
   "cell_type": "code",
   "execution_count": 11,
   "id": "d5679709",
   "metadata": {},
   "outputs": [],
   "source": [
    "import pandas as pd\n",
    "import numpy as np \n",
    "import matplotlib.pyplot as plt"
   ]
  },
  {
   "cell_type": "code",
   "execution_count": 12,
   "id": "1d5a72a9",
   "metadata": {},
   "outputs": [],
   "source": [
    "import os\n",
    "from PIL import Image\n",
    "from sklearn.preprocessing import LabelEncoder\n",
    "\n",
    "img_dir = \"data\"\n",
    "\n",
    "img_size = (64, 64)\n",
    "\n",
    "def load_images(dataset, img_dir):\n",
    "    images = []\n",
    "    labels = []\n",
    "    for index, row in dataset.iterrows():\n",
    "        img_path = os.path.join(img_dir, row['filename'])\n",
    "        try:\n",
    "            img = Image.open(img_path).convert('L')\n",
    "            img = img.resize(image_size)\n",
    "            img_array = np.array(img).flatten\n",
    "            images.append(img_array)\n",
    "            labels.append(row['label'])\n",
    "        except Exception as e:\n",
    "            print(f\"Error loading {img_path}: {e}\")\n",
    "    return np.array(images), np.array(labels)"
   ]
  },
  {
   "cell_type": "code",
   "execution_count": 16,
   "id": "61856c97",
   "metadata": {},
   "outputs": [
    {
     "name": "stdout",
     "output_type": "stream",
     "text": [
      "Error loading data\\Atul13138.png: [Errno 2] No such file or directory: 'data\\\\Atul13138.png'\n",
      "Error loading data\\Atul13139.png: [Errno 2] No such file or directory: 'data\\\\Atul13139.png'\n",
      "Error loading data\\Atul13140.png: [Errno 2] No such file or directory: 'data\\\\Atul13140.png'\n",
      "Error loading data\\Atul13141.png: [Errno 2] No such file or directory: 'data\\\\Atul13141.png'\n",
      "Error loading data\\Atul13142.png: [Errno 2] No such file or directory: 'data\\\\Atul13142.png'\n",
      "Error loading data\\Atul13143.png: [Errno 2] No such file or directory: 'data\\\\Atul13143.png'\n",
      "Error loading data\\Atul13144.png: [Errno 2] No such file or directory: 'data\\\\Atul13144.png'\n",
      "Error loading data\\Atul13145.png: [Errno 2] No such file or directory: 'data\\\\Atul13145.png'\n",
      "Error loading data\\Dishant10488.png: [Errno 2] No such file or directory: 'data\\\\Dishant10488.png'\n",
      "Error loading data\\Dishant10489.png: [Errno 2] No such file or directory: 'data\\\\Dishant10489.png'\n",
      "Error loading data\\Dishant10490.png: [Errno 2] No such file or directory: 'data\\\\Dishant10490.png'\n",
      "Error loading data\\Dishant10491.png: [Errno 2] No such file or directory: 'data\\\\Dishant10491.png'\n",
      "Error loading data\\Dishant10492.png: [Errno 2] No such file or directory: 'data\\\\Dishant10492.png'\n",
      "Error loading data\\Dishant10493.png: [Errno 2] No such file or directory: 'data\\\\Dishant10493.png'\n",
      "Error loading data\\Dishant10494.png: [Errno 2] No such file or directory: 'data\\\\Dishant10494.png'\n",
      "Error loading data\\Dishant10495.png: [Errno 2] No such file or directory: 'data\\\\Dishant10495.png'\n",
      "Error loading data\\DrPrashant03048.png: [Errno 2] No such file or directory: 'data\\\\DrPrashant03048.png'\n",
      "Error loading data\\DrPrashant03049.png: [Errno 2] No such file or directory: 'data\\\\DrPrashant03049.png'\n",
      "Error loading data\\DrPrashant03050.png: [Errno 2] No such file or directory: 'data\\\\DrPrashant03050.png'\n",
      "Error loading data\\DrPrashant03051.png: [Errno 2] No such file or directory: 'data\\\\DrPrashant03051.png'\n",
      "Error loading data\\DrPrashant03052.png: [Errno 2] No such file or directory: 'data\\\\DrPrashant03052.png'\n",
      "Error loading data\\DrPrashant03053.png: [Errno 2] No such file or directory: 'data\\\\DrPrashant03053.png'\n",
      "Error loading data\\DrPrashant03054.png: [Errno 2] No such file or directory: 'data\\\\DrPrashant03054.png'\n",
      "Error loading data\\DrPrashant03055.png: [Errno 2] No such file or directory: 'data\\\\DrPrashant03055.png'\n",
      "Error loading data\\Harsha08666.png: [Errno 2] No such file or directory: 'data\\\\Harsha08666.png'\n",
      "Error loading data\\Harsha08669.png: [Errno 2] No such file or directory: 'data\\\\Harsha08669.png'\n",
      "Error loading data\\Harsha08670.png: [Errno 2] No such file or directory: 'data\\\\Harsha08670.png'\n",
      "Error loading data\\Harsha08671.png: [Errno 2] No such file or directory: 'data\\\\Harsha08671.png'\n",
      "Error loading data\\Harsha08672.png: [Errno 2] No such file or directory: 'data\\\\Harsha08672.png'\n",
      "Error loading data\\Harsha08674.png: [Errno 2] No such file or directory: 'data\\\\Harsha08674.png'\n"
     ]
    }
   ],
   "source": [
    "dataset = pd.read_csv('data/micro_labels.csv')\n",
    "X, y = load_images(dataset, img_dir)"
   ]
  }
 ],
 "metadata": {
  "kernelspec": {
   "display_name": ".venv",
   "language": "python",
   "name": "python3"
  },
  "language_info": {
   "codemirror_mode": {
    "name": "ipython",
    "version": 3
   },
   "file_extension": ".py",
   "mimetype": "text/x-python",
   "name": "python",
   "nbconvert_exporter": "python",
   "pygments_lexer": "ipython3",
   "version": "3.9.13"
  }
 },
 "nbformat": 4,
 "nbformat_minor": 5
}
